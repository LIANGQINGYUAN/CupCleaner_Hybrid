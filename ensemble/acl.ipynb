{
 "cells": [
  {
   "cell_type": "code",
   "execution_count": 1,
   "metadata": {},
   "outputs": [],
   "source": [
    "from eval_utils import *"
   ]
  },
  {
   "cell_type": "code",
   "execution_count": 2,
   "metadata": {},
   "outputs": [],
   "source": [
    "tag = \"ACL\"\n",
    "old_code = read_data(f'../dataset/{tag}/test.json').old_code.tolist()\n",
    "new_code = read_data(f'../dataset/{tag}/test.json').new_code.tolist()\n",
    "old_comm = read_data(f'../dataset/{tag}/test.json').old_comment.tolist()\n",
    "\n",
    "gold = read_data(f'../src/saved_models/{tag}_CodeT5-20-5e-05-1/prediction/test_best-bleu.gold').gold.tolist()\n",
    "\n",
    "normal = read_data(f'../src/saved_models/{tag}_CodeT5-20-5e-05-1/prediction/test_best-bleu.output').pred.tolist()\n",
    "\n",
    "static = read_data(f'../src/saved_models/{tag}_static_05IQR_CodeT5-20-5e-05-1/prediction/test_best-bleu.output').pred.tolist()\n",
    "\n",
    "dynamic = read_data(f'../src/saved_models/{tag}_dynamic_CodeT5-20-5e-05-1/prediction/test_best-bleu.output').pred.tolist()\n",
    "\n",
    "# if merge file is exist\n",
    "merge_res = read_data(\"./ACL_merge_res.json\").pred.tolist()\n",
    "# if not, run the following code"
   ]
  },
  {
   "cell_type": "code",
   "execution_count": 3,
   "metadata": {},
   "outputs": [
    {
     "name": "stderr",
     "output_type": "stream",
     "text": [
      "/usr/local/lib/python2.7/dist-packages/scipy/stats/_distn_infrastructure.py:1920: RuntimeWarning: invalid value encountered in multiply\n",
      "  lower_bound = self.a * scale + loc\n",
      "/usr/local/lib/python2.7/dist-packages/scipy/stats/_distn_infrastructure.py:1921: RuntimeWarning: invalid value encountered in multiply\n",
      "  upper_bound = self.b * scale + loc\n",
      "/usr/local/lib/python2.7/dist-packages/scipy/stats/_distn_infrastructure.py:1920: RuntimeWarning: invalid value encountered in multiply\n",
      "  lower_bound = self.a * scale + loc\n",
      "/usr/local/lib/python2.7/dist-packages/scipy/stats/_distn_infrastructure.py:1921: RuntimeWarning: invalid value encountered in multiply\n",
      "  upper_bound = self.b * scale + loc\n",
      "/usr/local/lib/python2.7/dist-packages/scipy/stats/_distn_infrastructure.py:1920: RuntimeWarning: invalid value encountered in multiply\n",
      "  lower_bound = self.a * scale + loc\n",
      "/usr/local/lib/python2.7/dist-packages/scipy/stats/_distn_infrastructure.py:1921: RuntimeWarning: invalid value encountered in multiply\n",
      "  upper_bound = self.b * scale + loc\n"
     ]
    },
    {
     "data": {
      "text/plain": [
       "('Original: ',\n",
       " {'xMatch': 21.6,\n",
       "  'BLEU-4': 55.42,\n",
       "  'METEOR': 48.76,\n",
       "  'GLEU': 49.49,\n",
       "  'SARI': 44.46},\n",
       " 'Static: ',\n",
       " {'xMatch': 23.51,\n",
       "  'BLEU-4': 55.78,\n",
       "  'METEOR': 49.71,\n",
       "  'GLEU': 50.28,\n",
       "  'SARI': 47.17},\n",
       " 'Dynamic',\n",
       " {'xMatch': 22.15,\n",
       "  'BLEU-4': 54.46,\n",
       "  'METEOR': 48.59,\n",
       "  'GLEU': 49.14,\n",
       "  'SARI': 46.0})"
      ]
     },
     "execution_count": 3,
     "metadata": {},
     "output_type": "execute_result"
    }
   ],
   "source": [
    "\"Original: \",evaluation(gold, normal, old_comm), \"Static: \", evaluation(gold, static, old_comm),  \"Dynamic\", evaluation(gold, dynamic, old_comm)"
   ]
  },
  {
   "cell_type": "code",
   "execution_count": 4,
   "metadata": {},
   "outputs": [
    {
     "name": "stderr",
     "output_type": "stream",
     "text": [
      "/usr/local/lib/python2.7/dist-packages/scipy/stats/_distn_infrastructure.py:1920: RuntimeWarning: invalid value encountered in multiply\n",
      "  lower_bound = self.a * scale + loc\n",
      "/usr/local/lib/python2.7/dist-packages/scipy/stats/_distn_infrastructure.py:1921: RuntimeWarning: invalid value encountered in multiply\n",
      "  upper_bound = self.b * scale + loc\n"
     ]
    },
    {
     "data": {
      "text/plain": [
       "('Hybird: ',\n",
       " {'xMatch': 23.1,\n",
       "  'BLEU-4': 55.83,\n",
       "  'METEOR': 49.54,\n",
       "  'GLEU': 50.3,\n",
       "  'SARI': 46.66})"
      ]
     },
     "execution_count": 4,
     "metadata": {},
     "output_type": "execute_result"
    }
   ],
   "source": [
    "\"Hybird: \",evaluation(gold, merge_res, old_comm)"
   ]
  }
 ],
 "metadata": {
  "kernelspec": {
   "display_name": "torch",
   "language": "python",
   "name": "python3"
  },
  "language_info": {
   "codemirror_mode": {
    "name": "ipython",
    "version": 3
   },
   "file_extension": ".py",
   "mimetype": "text/x-python",
   "name": "python",
   "nbconvert_exporter": "python",
   "pygments_lexer": "ipython3",
   "version": "3.9.15"
  }
 },
 "nbformat": 4,
 "nbformat_minor": 2
}
