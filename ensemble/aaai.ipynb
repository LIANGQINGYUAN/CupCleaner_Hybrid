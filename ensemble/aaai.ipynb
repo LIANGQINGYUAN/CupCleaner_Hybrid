{
 "cells": [
  {
   "cell_type": "code",
   "execution_count": 1,
   "metadata": {},
   "outputs": [],
   "source": [
    "from eval_utils import *"
   ]
  },
  {
   "cell_type": "code",
   "execution_count": 2,
   "metadata": {},
   "outputs": [],
   "source": [
    "old_code = read_data('../dataset/AAAI/test150.json').old_code.tolist()\n",
    "new_code = read_data('../dataset/AAAI/test150.json').new_code.tolist()\n",
    "old_comm = read_data('../dataset/AAAI/test150.json').old_comment.tolist()\n",
    "\n",
    "gold = read_data('../src/saved_models/AAAI_test150_CodeT5-20-5e-05-1/prediction/test_best-bleu.gold').gold.tolist()\n",
    "\n",
    "normal = read_data('../src/saved_models/AAAI_test150_CodeT5-20-5e-05-1/prediction/test_best-bleu.output').pred.tolist()\n",
    "\n",
    "static = read_data('../src/saved_models/AAAI_static_test150_05IQR_CodeT5-20-5e-05-1/prediction/test_best-bleu.output').pred.tolist()\n",
    "\n",
    "dynamic = read_data('../src/saved_models/AAAI_dynamic_test150_CodeT5-20-5e-05-1/prediction/test_best-bleu.output').pred.tolist()\n",
    "\n",
    "# if merge file is exist\n",
    "merge_res = read_data(\"./AAAI_merge_res.json\").pred.tolist()\n",
    "# if not, run the following code"
   ]
  },
  {
   "cell_type": "code",
   "execution_count": 3,
   "metadata": {},
   "outputs": [
    {
     "name": "stderr",
     "output_type": "stream",
     "text": [
      "/usr/local/lib/python2.7/dist-packages/scipy/stats/_distn_infrastructure.py:1920: RuntimeWarning: invalid value encountered in multiply\n",
      "  lower_bound = self.a * scale + loc\n",
      "/usr/local/lib/python2.7/dist-packages/scipy/stats/_distn_infrastructure.py:1921: RuntimeWarning: invalid value encountered in multiply\n",
      "  upper_bound = self.b * scale + loc\n",
      "/usr/local/lib/python2.7/dist-packages/scipy/stats/_distn_infrastructure.py:1920: RuntimeWarning: invalid value encountered in multiply\n",
      "  lower_bound = self.a * scale + loc\n",
      "/usr/local/lib/python2.7/dist-packages/scipy/stats/_distn_infrastructure.py:1921: RuntimeWarning: invalid value encountered in multiply\n",
      "  upper_bound = self.b * scale + loc\n",
      "/usr/local/lib/python2.7/dist-packages/scipy/stats/_distn_infrastructure.py:1920: RuntimeWarning: invalid value encountered in multiply\n",
      "  lower_bound = self.a * scale + loc\n",
      "/usr/local/lib/python2.7/dist-packages/scipy/stats/_distn_infrastructure.py:1921: RuntimeWarning: invalid value encountered in multiply\n",
      "  upper_bound = self.b * scale + loc\n"
     ]
    },
    {
     "data": {
      "text/plain": [
       "('Original: ',\n",
       " {'xMatch': 41.33,\n",
       "  'BLEU-4': 67.03,\n",
       "  'METEOR': 61.45,\n",
       "  'GLEU': 60.54,\n",
       "  'SARI': 63.3},\n",
       " 'Static: ',\n",
       " {'xMatch': 44.0,\n",
       "  'BLEU-4': 67.89,\n",
       "  'METEOR': 63.28,\n",
       "  'GLEU': 61.43,\n",
       "  'SARI': 65.0},\n",
       " 'Dynamic',\n",
       " {'xMatch': 44.67,\n",
       "  'BLEU-4': 68.98,\n",
       "  'METEOR': 63.83,\n",
       "  'GLEU': 62.6,\n",
       "  'SARI': 66.19})"
      ]
     },
     "execution_count": 3,
     "metadata": {},
     "output_type": "execute_result"
    }
   ],
   "source": [
    "\"Original: \",evaluation(gold, normal, old_comm), \"Static: \", evaluation(gold, static, old_comm),  \"Dynamic\", evaluation(gold, dynamic, old_comm)"
   ]
  },
  {
   "cell_type": "code",
   "execution_count": 4,
   "metadata": {},
   "outputs": [
    {
     "name": "stderr",
     "output_type": "stream",
     "text": [
      "/usr/local/lib/python2.7/dist-packages/scipy/stats/_distn_infrastructure.py:1920: RuntimeWarning: invalid value encountered in multiply\n",
      "  lower_bound = self.a * scale + loc\n",
      "/usr/local/lib/python2.7/dist-packages/scipy/stats/_distn_infrastructure.py:1921: RuntimeWarning: invalid value encountered in multiply\n",
      "  upper_bound = self.b * scale + loc\n"
     ]
    },
    {
     "data": {
      "text/plain": [
       "('Hybird: ',\n",
       " {'xMatch': 45.33,\n",
       "  'BLEU-4': 69.11,\n",
       "  'METEOR': 64.37,\n",
       "  'GLEU': 62.52,\n",
       "  'SARI': 65.82})"
      ]
     },
     "execution_count": 4,
     "metadata": {},
     "output_type": "execute_result"
    }
   ],
   "source": [
    "\"Hybird: \",evaluation(gold, merge_res, old_comm)"
   ]
  }
 ],
 "metadata": {
  "kernelspec": {
   "display_name": "torch",
   "language": "python",
   "name": "python3"
  },
  "language_info": {
   "codemirror_mode": {
    "name": "ipython",
    "version": 3
   },
   "file_extension": ".py",
   "mimetype": "text/x-python",
   "name": "python",
   "nbconvert_exporter": "python",
   "pygments_lexer": "ipython3",
   "version": "3.9.15"
  }
 },
 "nbformat": 4,
 "nbformat_minor": 2
}
