{
 "cells": [
  {
   "cell_type": "code",
   "execution_count": 1,
   "metadata": {},
   "outputs": [],
   "source": [
    "import pandas as pd"
   ]
  },
  {
   "cell_type": "code",
   "execution_count": 2,
   "metadata": {},
   "outputs": [],
   "source": [
    "data = pd.read_csv('check_with_label.csv')"
   ]
  },
  {
   "cell_type": "code",
   "execution_count": 3,
   "metadata": {},
   "outputs": [
    {
     "data": {
      "text/html": [
       "<div>\n",
       "<style scoped>\n",
       "    .dataframe tbody tr th:only-of-type {\n",
       "        vertical-align: middle;\n",
       "    }\n",
       "\n",
       "    .dataframe tbody tr th {\n",
       "        vertical-align: top;\n",
       "    }\n",
       "\n",
       "    .dataframe thead th {\n",
       "        text-align: right;\n",
       "    }\n",
       "</style>\n",
       "<table border=\"1\" class=\"dataframe\">\n",
       "  <thead>\n",
       "    <tr style=\"text-align: right;\">\n",
       "      <th></th>\n",
       "      <th>id</th>\n",
       "      <th>old_comment</th>\n",
       "      <th>new_comment</th>\n",
       "      <th>old_code</th>\n",
       "      <th>new_code</th>\n",
       "      <th>score</th>\n",
       "      <th>idx</th>\n",
       "      <th>label</th>\n",
       "    </tr>\n",
       "  </thead>\n",
       "  <tbody>\n",
       "    <tr>\n",
       "      <th>0</th>\n",
       "      <td>davideas_FlexibleAdapter-19-1905</td>\n",
       "      <td>always true , if not overridden</td>\n",
       "      <td>always false , if not overridden</td>\n",
       "      <td>protected boolean should activate view while s...</td>\n",
       "      <td>protected boolean should activate view while s...</td>\n",
       "      <td>1.000000</td>\n",
       "      <td>2513</td>\n",
       "      <td>1</td>\n",
       "    </tr>\n",
       "    <tr>\n",
       "      <th>1</th>\n",
       "      <td>real-logic_aeron-28-1207</td>\n",
       "      <td>the same as publication # offer ( direct buffe...</td>\n",
       "      <td>the same as publication # offer ( direct buffe...</td>\n",
       "      <td>public long offer ( final long correlation id ...</td>\n",
       "      <td>public long offer ( final long correlation id ...</td>\n",
       "      <td>0.641024</td>\n",
       "      <td>2746</td>\n",
       "      <td>1</td>\n",
       "    </tr>\n",
       "    <tr>\n",
       "      <th>2</th>\n",
       "      <td>eclipse-vertx_vert.x-22-555</td>\n",
       "      <td>the current argument model instance</td>\n",
       "      <td>the current argument instance</td>\n",
       "      <td>public argument model set required ( boolean r...</td>\n",
       "      <td>public argument set required ( boolean require...</td>\n",
       "      <td>0.533163</td>\n",
       "      <td>5139</td>\n",
       "      <td>1</td>\n",
       "    </tr>\n",
       "    <tr>\n",
       "      <th>3</th>\n",
       "      <td>Blankj_AndroidUtilCode-59-152</td>\n",
       "      <td>true : false :</td>\n",
       "      <td>true : success false : fail</td>\n",
       "      <td>public static boolean install app silent ( fin...</td>\n",
       "      <td>public static boolean install app silent ( fin...</td>\n",
       "      <td>0.305330</td>\n",
       "      <td>690</td>\n",
       "      <td>0</td>\n",
       "    </tr>\n",
       "    <tr>\n",
       "      <th>4</th>\n",
       "      <td>nicoulaj_idea-markdown-1-6745</td>\n",
       "      <td>todo add javadoc comment .</td>\n",
       "      <td>the psi element matching the element type of t...</td>\n",
       "      <td>@ not null public psi element create element (...</td>\n",
       "      <td>@ not null public psi element create element (...</td>\n",
       "      <td>0.245290</td>\n",
       "      <td>3463</td>\n",
       "      <td>0</td>\n",
       "    </tr>\n",
       "  </tbody>\n",
       "</table>\n",
       "</div>"
      ],
      "text/plain": [
       "                                 id  \\\n",
       "0  davideas_FlexibleAdapter-19-1905   \n",
       "1          real-logic_aeron-28-1207   \n",
       "2       eclipse-vertx_vert.x-22-555   \n",
       "3     Blankj_AndroidUtilCode-59-152   \n",
       "4     nicoulaj_idea-markdown-1-6745   \n",
       "\n",
       "                                         old_comment  \\\n",
       "0                    always true , if not overridden   \n",
       "1  the same as publication # offer ( direct buffe...   \n",
       "2                the current argument model instance   \n",
       "3                                     true : false :   \n",
       "4                         todo add javadoc comment .   \n",
       "\n",
       "                                         new_comment  \\\n",
       "0                   always false , if not overridden   \n",
       "1  the same as publication # offer ( direct buffe...   \n",
       "2                      the current argument instance   \n",
       "3                        true : success false : fail   \n",
       "4  the psi element matching the element type of t...   \n",
       "\n",
       "                                            old_code  \\\n",
       "0  protected boolean should activate view while s...   \n",
       "1  public long offer ( final long correlation id ...   \n",
       "2  public argument model set required ( boolean r...   \n",
       "3  public static boolean install app silent ( fin...   \n",
       "4  @ not null public psi element create element (...   \n",
       "\n",
       "                                            new_code     score   idx  label  \n",
       "0  protected boolean should activate view while s...  1.000000  2513      1  \n",
       "1  public long offer ( final long correlation id ...  0.641024  2746      1  \n",
       "2  public argument set required ( boolean require...  0.533163  5139      1  \n",
       "3  public static boolean install app silent ( fin...  0.305330   690      0  \n",
       "4  @ not null public psi element create element (...  0.245290  3463      0  "
      ]
     },
     "execution_count": 3,
     "metadata": {},
     "output_type": "execute_result"
    }
   ],
   "source": [
    "data.head()"
   ]
  },
  {
   "cell_type": "code",
   "execution_count": 4,
   "metadata": {},
   "outputs": [],
   "source": [
    "pred = open('human_lable.txt', 'r').readlines()"
   ]
  },
  {
   "cell_type": "code",
   "execution_count": 5,
   "metadata": {},
   "outputs": [],
   "source": [
    "pred = [int(p) for p in pred]"
   ]
  },
  {
   "cell_type": "code",
   "execution_count": 6,
   "metadata": {},
   "outputs": [],
   "source": [
    "data['pred'] = pred"
   ]
  },
  {
   "cell_type": "code",
   "execution_count": 7,
   "metadata": {},
   "outputs": [
    {
     "data": {
      "text/plain": [
       "(50, 2.5)"
      ]
     },
     "execution_count": 7,
     "metadata": {},
     "output_type": "execute_result"
    }
   ],
   "source": [
    "len(data.loc[data['label'] == 0]), round(sum(data.loc[data['label'] == 0].pred.tolist())/50,1)"
   ]
  },
  {
   "cell_type": "code",
   "execution_count": 8,
   "metadata": {},
   "outputs": [
    {
     "data": {
      "text/plain": [
       "(50, 4.3)"
      ]
     },
     "execution_count": 8,
     "metadata": {},
     "output_type": "execute_result"
    }
   ],
   "source": [
    "len(data.loc[data['label'] == 1]), round(sum(data.loc[data['label'] == 1].pred.tolist())/50,1)"
   ]
  },
  {
   "cell_type": "code",
   "execution_count": null,
   "metadata": {},
   "outputs": [],
   "source": []
  }
 ],
 "metadata": {
  "language_info": {
   "name": "python"
  }
 },
 "nbformat": 4,
 "nbformat_minor": 2
}
